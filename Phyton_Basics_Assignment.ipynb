{
  "nbformat": 4,
  "nbformat_minor": 0,
  "metadata": {
    "colab": {
      "provenance": []
    },
    "kernelspec": {
      "name": "python3",
      "display_name": "Python 3"
    },
    "language_info": {
      "name": "python"
    }
  },
  "cells": [
    {
      "cell_type": "markdown",
      "source": [
        "   ## **Theory Question Answer**\n",
        "\n"
      ],
      "metadata": {
        "id": "zhQbxAFFCxhb"
      }
    },
    {
      "cell_type": "markdown",
      "source": [
        "Question 1. What is Python, and why is it popular\n",
        "\n",
        "Python is a high-level, interpreted programming language known for its simplicity and readability. It's popular because:\n",
        "- Easy to learn with clear, readable syntax\n",
        "- Versatile (web development, data science, AI, automation)\n",
        "- Extensive standard library and third-party packages\n",
        "- Strong community support\n",
        "- Cross-platform compatibility\n",
        "- Free and open-source\n"
      ],
      "metadata": {
        "id": "ZaohfZjsxhXE"
      }
    },
    {
      "cell_type": "markdown",
      "source": [
        " Question 2: What is an interpreter in Python?\n",
        "\n",
        "An interpreter in Python is the program that reads and executes Python code directly, line by line, without requiring compilation to machine code beforehand. This makes Python development faster for testing and debugging, as changes can be immediately executed. The Python interpreter translates Python code into bytecode, which is then executed by the Python Virtual Machine (PVM).\\"
      ],
      "metadata": {
        "id": "PLX7LblAB9RR"
      }
    },
    {
      "cell_type": "markdown",
      "source": [
        "Question 3: What are pre-defined keywords in Python?\n",
        "\n",
        "Keywords in Python are reserved words that have special meanings and purposes in the language. They cannot be used as variable names. Some examples include:\n",
        "\n",
        "1.if,else,elif\n",
        "\n",
        "2.for,while, break, continue\n",
        "\n",
        "3.def, return, class\n",
        "\n",
        "4.import, from, as\n",
        "\n",
        "5.True, False, None\n",
        "\n",
        "6.and, or, not\n",
        "\n",
        "7.try, except, finally\n",
        "\n",
        "8.in, is"
      ],
      "metadata": {
        "id": "BiVx8Z5eEAQJ"
      }
    },
    {
      "cell_type": "markdown",
      "source": [
        "Question 4: Can keywords be used as variable names?\n",
        "\n",
        "No, keywords cannot be used as variable names in Python. Since keywords have predefined meanings in the language, using them as variable names would create ambiguity and syntax errors. For example, you cannot create a variable named \"if\" or \"while\" as they are reserved for Python's syntax structure."
      ],
      "metadata": {
        "id": "mO5Jj1ViFmiC"
      }
    },
    {
      "cell_type": "markdown",
      "source": [
        "Question 5: What is mutability in Python?\n",
        "\n",
        "Mutability refers to whether an object can be changed after it's created:\n",
        "\n",
        "Mutable objects can be modified after creation (lists, dictionaries, sets)\n",
        "Immutable objects cannot be changed after creation (tuples, strings, numbers)"
      ],
      "metadata": {
        "id": "BmNW9Ga0Fyq5"
      }
    },
    {
      "cell_type": "markdown",
      "source": [
        "Question 6: Why are lists mutable, but tuples are immutable?\n",
        "\n",
        "Lists are mutable to provide flexibility when you need to modify collections of data. Tuples are immutable by design for several reasons:\n",
        "\n",
        "- To ensure data integrity when you don't want values to change\n",
        "\n",
        "- To be used as dictionary keys (only immutable objects can be keys)\n",
        "\n",
        "- For faster access and execution\n",
        "\n",
        "- To represent fixed collections like coordinates (x,y) that conceptually shouldn't change.\n"
      ],
      "metadata": {
        "id": "Bmjric5AFy_q"
      }
    },
    {
      "cell_type": "markdown",
      "source": [
        "Question 7:  What is the difference between “==” and “is” operators in Python\n",
        "\n",
        "The difference is :\n",
        "- \"==\" compares the value or equality of two objects\n",
        "- \"is\" compares the identity of objects (if they are the same object in memory)"
      ],
      "metadata": {
        "id": "WGiv7K8RG6CZ"
      }
    },
    {
      "cell_type": "markdown",
      "source": [
        "Question 8: What are logical operators in Python?\n",
        "\n",
        "Logical operators in Python are used to combine conditional statements:\n",
        "- and: Returns True if both statements are true\n",
        "- or: Returns True if at least one statement is true\n",
        "- not: Returns the opposite of the statement's truth value\n"
      ],
      "metadata": {
        "id": "cPsg8-GbH7AV"
      }
    },
    {
      "cell_type": "markdown",
      "source": [
        "Question 9: What is type casting in Python?\n",
        "\n",
        "\n",
        "\n",
        "Type casting is the process of converting a value from one data type to another.\n",
        "Python provides built-in functions for type conversion:\n",
        "- int(): Converts to integer\n",
        "- float(): Converts to floating-point number\n",
        "- str(): Converts to string\n",
        "- list(), tuple(), set(): Convert to respective collection types"
      ],
      "metadata": {
        "id": "aTyn2E_MHtOd"
      }
    },
    {
      "cell_type": "markdown",
      "source": [
        "Question 10: What is the difference between implicit and explicit type casting?\n",
        "\n",
        "\n",
        "The difference between impliit and explicit type casting are:\n",
        "\n",
        "1. Implicit type casting (automatic):\n",
        "   - Python automatically converts one data type to another when needed\n",
        "   - Usually occurs during expression evaluation\n",
        "   \n",
        "2. Explicit type casting (manual):\n",
        "   - The programmer explicitly converts using type conversion functions"
      ],
      "metadata": {
        "id": "OcRUzmAWHtjj"
      }
    },
    {
      "cell_type": "markdown",
      "source": [
        "Question 11: What is the purpose of conditional statements in Python?\n",
        "\n",
        "Conditional statements allow programs to make decisions based on certain conditions.\n",
        "They execute different code blocks depending on whether specified conditions are true or false.\n",
        "Purposes include:\n",
        "- Control program flow based on user input\n",
        "- Handle different scenarios in data processing\n",
        "- Implement business logic and rules\n",
        "- Prevent errors by checking conditions before operations\n",
        "- Create branches in algorithms\n",
        "\n",
        "The main conditional structures in Python are if, elif, and else."
      ],
      "metadata": {
        "id": "uBhpKujKHtnG"
      }
    },
    {
      "cell_type": "markdown",
      "source": [
        "Question 12: How does the elif statement work?\n",
        "\n",
        "The elif (short for \"else if\") statement in Python works as follows:\n",
        "- It's used after an initial if statement\n",
        "- It provides an additional condition to check if the previous condition(s) were False\n",
        "- Multiple elif statements can be chained to check multiple conditions in sequence\n",
        "- If the elif condition is True, its code block executes and subsequent elif/else blocks are skipped\n",
        "- If all if and elif conditions are False, the else block executes (if present)"
      ],
      "metadata": {
        "id": "2bllHlExHtqq"
      }
    },
    {
      "cell_type": "markdown",
      "source": [
        "Question 13: What is the difference between for and while loops?\n",
        "The key differences are:\n",
        "\n",
        "For Loop:\n",
        "- Used for iterating over a sequence (list, tuple, string, etc.)\n",
        "- Number of iterations is predetermined by the sequence length\n",
        "- Better when you know the number of iterations in advance\n",
        "- Cleaner syntax for sequence iteration\n",
        "\n",
        "While Loop:\n",
        "- Executes as long as a condition remains True\n",
        "- Number of iterations depends on when the condition becomes False\n",
        "- Better when you don't know how many iterations you'll need\n",
        "- More suitable for checking conditions that change during execution"
      ],
      "metadata": {
        "id": "karimHGJHtuP"
      }
    },
    {
      "cell_type": "markdown",
      "source": [
        "Question 14: Describe a scenario where a while loop is more suitable than a for loop\n",
        "\n",
        "A while loop is more suitable in situations where the number of iterations is not known in advance and depends on a dynamic condition that is evaluated during each iteration. In contrast, a for loop is typically used when you know how many times you want to iterate over a sequence or range.\n",
        "\n",
        "Example Scenario:\n",
        "Imagine a situation where you are writing a program to keep prompting a user for a password until they enter the correct one. You don’t know how many attempts the user will need, but you need to continue asking until they provide the correct input. Here, a while loop is ideal because the condition (whether the password is correct) will change with each attempt, and the number of iterations is unknown."
      ],
      "metadata": {
        "id": "nHuDp9y0IgAS"
      }
    },
    {
      "cell_type": "markdown",
      "source": [
        "#         **PRACTICAL QUESTIONS**"
      ],
      "metadata": {
        "id": "npfphahiI1PX"
      }
    },
    {
      "cell_type": "markdown",
      "source": [
        "Question 1.  Write a Python program to print \"Hello, World!\""
      ],
      "metadata": {
        "id": "jcjSeLLJJS2w"
      }
    },
    {
      "cell_type": "code",
      "source": [
        "print(\"Hello world\")"
      ],
      "metadata": {
        "colab": {
          "base_uri": "https://localhost:8080/"
        },
        "id": "AYdiMEscJW-F",
        "outputId": "eb58822a-b472-4ba7-e574-d513facf2ad9"
      },
      "execution_count": null,
      "outputs": [
        {
          "output_type": "stream",
          "name": "stdout",
          "text": [
            "Hello world\n"
          ]
        }
      ]
    },
    {
      "cell_type": "markdown",
      "source": [
        "Question 2. Write a Python program that displays your name and age."
      ],
      "metadata": {
        "id": "-ezeZlDXKABK"
      }
    },
    {
      "cell_type": "code",
      "source": [
        "name = \"Devansh\"\n",
        "age = 21\n",
        "print (\"Name :\", name)\n",
        "print (\"Age :\",age)"
      ],
      "metadata": {
        "colab": {
          "base_uri": "https://localhost:8080/"
        },
        "id": "dYhygluXJqeU",
        "outputId": "b1978fb2-5903-42cd-d8fa-da124d99808f"
      },
      "execution_count": null,
      "outputs": [
        {
          "output_type": "stream",
          "name": "stdout",
          "text": [
            "Name : Devansh\n",
            "Age : 21\n"
          ]
        }
      ]
    },
    {
      "cell_type": "markdown",
      "source": [
        "Question 3. Write code to print all the pre-defined keywords in Python using the keyword library.\n"
      ],
      "metadata": {
        "id": "iIvGuis4MJ4o"
      }
    },
    {
      "cell_type": "code",
      "source": [
        "help('keywords')"
      ],
      "metadata": {
        "id": "CU-Cdj7_MZfr",
        "colab": {
          "base_uri": "https://localhost:8080/"
        },
        "outputId": "84b49454-2afe-4854-f1c7-8f62ef2d8e0b"
      },
      "execution_count": 2,
      "outputs": [
        {
          "output_type": "stream",
          "name": "stdout",
          "text": [
            "\n",
            "Here is a list of the Python keywords.  Enter any keyword to get more help.\n",
            "\n",
            "False               class               from                or\n",
            "None                continue            global              pass\n",
            "True                def                 if                  raise\n",
            "and                 del                 import              return\n",
            "as                  elif                in                  try\n",
            "assert              else                is                  while\n",
            "async               except              lambda              with\n",
            "await               finally             nonlocal            yield\n",
            "break               for                 not                 \n",
            "\n"
          ]
        }
      ]
    },
    {
      "cell_type": "markdown",
      "source": [
        "Question 4. Write a program that checks if a given word is a Python keyword."
      ],
      "metadata": {
        "id": "URhMDVCrBl2Q"
      }
    },
    {
      "cell_type": "code",
      "source": [
        "import keyword\n",
        "\n",
        "word = input(\"Enter a word:\")\n",
        "if keyword.iskeyword(word):\n",
        "  print(f\"{word} is a Python keyword.\")\n",
        "else:\n",
        "  print(f\"{word} is not a Python keyword.\")"
      ],
      "metadata": {
        "colab": {
          "base_uri": "https://localhost:8080/"
        },
        "id": "yAceaYOGB4Ad",
        "outputId": "e237b0e6-272b-4ab5-c1b4-da317beefe90"
      },
      "execution_count": 2,
      "outputs": [
        {
          "output_type": "stream",
          "name": "stdout",
          "text": [
            "Enter a word:false\n",
            "false is not a Python keyword.\n"
          ]
        }
      ]
    },
    {
      "cell_type": "markdown",
      "source": [
        "Question 5. Create a list and tuple in Python, and demonstrate how attempting to change an element works differently\n",
        "for each."
      ],
      "metadata": {
        "id": "lOQugDR0CA2P"
      }
    },
    {
      "cell_type": "code",
      "source": [
        "my_list = [1,2,3,4,5]\n",
        "my_tuple = (1,2,3,4,5)\n",
        "\n",
        "print(\"Original list :\", my_list)\n",
        "\n",
        "#List can be changed\n",
        "my_list[1]= 99 #works fine\n",
        "\n",
        "print(\"Changed list :\", my_list)"
      ],
      "metadata": {
        "colab": {
          "base_uri": "https://localhost:8080/"
        },
        "id": "oOcIO8n7sOou",
        "outputId": "7758761a-e9dd-4ffe-aadf-0802ca90bd5d"
      },
      "execution_count": 3,
      "outputs": [
        {
          "output_type": "stream",
          "name": "stdout",
          "text": [
            "Original list : [1, 2, 3, 4, 5]\n",
            "Changed list : [1, 99, 3, 4, 5]\n"
          ]
        }
      ]
    },
    {
      "cell_type": "code",
      "source": [
        "print(\"Original tuple :\", my_tuple)\n",
        "\n",
        "#tuples cannot be changed\n",
        "my_tuple[1]=99 #throws error"
      ],
      "metadata": {
        "colab": {
          "base_uri": "https://localhost:8080/",
          "height": 193
        },
        "id": "RyUvl1ZLsXm0",
        "outputId": "0e77bdb5-0b1d-40ba-ce7f-dbc5b43a9d60"
      },
      "execution_count": 4,
      "outputs": [
        {
          "output_type": "stream",
          "name": "stdout",
          "text": [
            "Original tuple : (1, 2, 3, 4, 5)\n"
          ]
        },
        {
          "output_type": "error",
          "ename": "TypeError",
          "evalue": "'tuple' object does not support item assignment",
          "traceback": [
            "\u001b[0;31m---------------------------------------------------------------------------\u001b[0m",
            "\u001b[0;31mTypeError\u001b[0m                                 Traceback (most recent call last)",
            "\u001b[0;32m<ipython-input-4-8f99397d9579>\u001b[0m in \u001b[0;36m<cell line: 0>\u001b[0;34m()\u001b[0m\n\u001b[1;32m      2\u001b[0m \u001b[0;34m\u001b[0m\u001b[0m\n\u001b[1;32m      3\u001b[0m \u001b[0;31m#tuples cannot be changed\u001b[0m\u001b[0;34m\u001b[0m\u001b[0;34m\u001b[0m\u001b[0m\n\u001b[0;32m----> 4\u001b[0;31m \u001b[0mmy_tuple\u001b[0m\u001b[0;34m[\u001b[0m\u001b[0;36m1\u001b[0m\u001b[0;34m]\u001b[0m\u001b[0;34m=\u001b[0m\u001b[0;36m99\u001b[0m \u001b[0;31m#throws error\u001b[0m\u001b[0;34m\u001b[0m\u001b[0;34m\u001b[0m\u001b[0m\n\u001b[0m",
            "\u001b[0;31mTypeError\u001b[0m: 'tuple' object does not support item assignment"
          ]
        }
      ]
    },
    {
      "cell_type": "markdown",
      "source": [
        "Question 6. Write a function to demonstrate the behavior of mutable and immutable arguments.\n",
        "\n"
      ],
      "metadata": {
        "id": "kkjv1OF6pCdB"
      }
    },
    {
      "cell_type": "code",
      "source": [
        "def modify_args(a_list, an_int):\n",
        "  a_list.append(4)\n",
        "  an_int += 10\n",
        "\n",
        "my_list = [1,2,3]\n",
        "my_int = 5\n",
        "\n",
        "modify_args(my_list,my_int)\n",
        "print(\"list after function call :\", my_list)  #mutable, will change\n",
        "print(\"Int after function call :\", my_int) #immutable , won't change"
      ],
      "metadata": {
        "colab": {
          "base_uri": "https://localhost:8080/"
        },
        "id": "hPoKfAPDpO0O",
        "outputId": "848a5835-75c6-4de0-cda7-0f89aef231f5"
      },
      "execution_count": 5,
      "outputs": [
        {
          "output_type": "stream",
          "name": "stdout",
          "text": [
            "list after function call : [1, 2, 3, 4]\n",
            "Int after function call : 5\n"
          ]
        }
      ]
    },
    {
      "cell_type": "markdown",
      "source": [
        "Question 7. Write a program that performs basic arithmetic operations on two user-input numbers.\n",
        "\n"
      ],
      "metadata": {
        "id": "Q8qPCAQBpPlt"
      }
    },
    {
      "cell_type": "code",
      "source": [
        "x = float(input(\"Enter first number : \"))\n",
        "y = float(input(\"Enter second number : \"))\n",
        "\n",
        "print(\"Sum:\", x+y)\n",
        "print(\"Diffrence:\", x-y)\n",
        "print(\"Product :\", x*y)\n",
        "if y!=0:\n",
        "  print(\"Quotient:\", x/y)\n",
        "else:\n",
        "  print(\"Division  by zero is not allowed\")"
      ],
      "metadata": {
        "colab": {
          "base_uri": "https://localhost:8080/"
        },
        "id": "4_89rfMGpVG2",
        "outputId": "33cc0879-5cf9-49c2-bf75-92bd90af7f8b"
      },
      "execution_count": 7,
      "outputs": [
        {
          "output_type": "stream",
          "name": "stdout",
          "text": [
            "Enter first number : 38\n",
            "Enter second number : 24\n",
            "Sum: 62.0\n",
            "Diffrence: 14.0\n",
            "Product : 912.0\n",
            "Quotient: 1.5833333333333333\n"
          ]
        }
      ]
    },
    {
      "cell_type": "markdown",
      "source": [
        "Question 8. Write a program to demonstrate the use of logical operators."
      ],
      "metadata": {
        "id": "rcsghmmIpVt6"
      }
    },
    {
      "cell_type": "code",
      "source": [
        "a = True\n",
        "b = False\n",
        "print(\"a AND b:\", a and b)\n",
        "print(\"a OR b:\", a or b)\n",
        "print(\"a NOT b\", not a)"
      ],
      "metadata": {
        "colab": {
          "base_uri": "https://localhost:8080/"
        },
        "id": "tkCxNWhuuwvb",
        "outputId": "2ff204ad-fbd6-4c3e-c970-5e69473322c5"
      },
      "execution_count": 17,
      "outputs": [
        {
          "output_type": "stream",
          "name": "stdout",
          "text": [
            "a AND b: False\n",
            "a OR b: True\n",
            "a NOT b False\n"
          ]
        }
      ]
    },
    {
      "cell_type": "markdown",
      "source": [
        "Question 9. Write a Python program to convert user input from string to integer, float, and boolean types."
      ],
      "metadata": {
        "id": "doU11aICpaKz"
      }
    },
    {
      "cell_type": "code",
      "source": [
        "s = input(\"Enter something: \")\n",
        "integer_value = int(s)\n",
        "float_value = float(s)\n",
        "bool_value = bool(s)\n",
        "\n",
        "print(\"As integer:\", integer_value)\n",
        "print(type(integer_value))\n",
        "print(\"As float:\", float_value)\n",
        "print(type(float_value))\n",
        "print(\"As boolean:\", bool_value)\n",
        "print(type(bool_value))"
      ],
      "metadata": {
        "colab": {
          "base_uri": "https://localhost:8080/"
        },
        "id": "LL6OkKbtpeuY",
        "outputId": "f05a8de3-c9a9-4c50-d708-bf96ec402e35"
      },
      "execution_count": 9,
      "outputs": [
        {
          "output_type": "stream",
          "name": "stdout",
          "text": [
            "Enter something: 220\n",
            "As integer: 220\n",
            "<class 'int'>\n",
            "As float: 220.0\n",
            "<class 'float'>\n",
            "As boolean: True\n",
            "<class 'bool'>\n"
          ]
        }
      ]
    },
    {
      "cell_type": "markdown",
      "source": [
        "Question 10. Write code to demonstrate type casting with list elements."
      ],
      "metadata": {
        "id": "LoIyqxDLpfXh"
      }
    },
    {
      "cell_type": "code",
      "source": [
        "string_list = [\"1\",\"2\",\"3\"]\n",
        "print(\"Original list:\", string_list)\n",
        "\n",
        "#convert all string to number(int)\n",
        "number_list =[int(item) for item in string_list]\n",
        "print(\"Number list:\", number_list)"
      ],
      "metadata": {
        "colab": {
          "base_uri": "https://localhost:8080/"
        },
        "id": "z0yICjy3ph-M",
        "outputId": "47801c54-0aff-41ca-965a-36c7657b8bb9"
      },
      "execution_count": 10,
      "outputs": [
        {
          "output_type": "stream",
          "name": "stdout",
          "text": [
            "Original list: ['1', '2', '3']\n",
            "Number list: [1, 2, 3]\n"
          ]
        }
      ]
    },
    {
      "cell_type": "markdown",
      "source": [
        "Question 11. Write a program that checks if a number is positive, negative, or zero."
      ],
      "metadata": {
        "id": "5SsNJ2oLpibx"
      }
    },
    {
      "cell_type": "code",
      "source": [
        "number = float(input(\"Enter a number: \"))\n",
        "if number >0:\n",
        "  print(\"Positive\")\n",
        "elif number < 0:\n",
        "  print(\"Negative\")\n",
        "else:\n",
        "  print(\"Zero\")"
      ],
      "metadata": {
        "colab": {
          "base_uri": "https://localhost:8080/"
        },
        "id": "8MFtxvozpkHX",
        "outputId": "b103c3ca-2e3a-4784-b6ac-5688914c4691"
      },
      "execution_count": 11,
      "outputs": [
        {
          "output_type": "stream",
          "name": "stdout",
          "text": [
            "Enter a number: 22\n",
            "Positive\n"
          ]
        }
      ]
    },
    {
      "cell_type": "markdown",
      "source": [
        "Question 12. Write a for loop to print numbers from 1 to 10."
      ],
      "metadata": {
        "id": "juFRDKbLpkkm"
      }
    },
    {
      "cell_type": "code",
      "source": [
        "for i in range(1,11):\n",
        "  print(i,end=\" \")"
      ],
      "metadata": {
        "colab": {
          "base_uri": "https://localhost:8080/"
        },
        "id": "Zbb9op9OpmTX",
        "outputId": "1783c9dd-c262-46c7-b110-c20259261cd6"
      },
      "execution_count": 12,
      "outputs": [
        {
          "output_type": "stream",
          "name": "stdout",
          "text": [
            "1 2 3 4 5 6 7 8 9 10 "
          ]
        }
      ]
    },
    {
      "cell_type": "markdown",
      "source": [
        "Question 13. Write a Python program to find the sum of all even numbers between 1 and 50."
      ],
      "metadata": {
        "id": "H-HEkcEopmz_"
      }
    },
    {
      "cell_type": "code",
      "source": [
        "total = 0\n",
        "for number in range(2,11,6):\n",
        "  total += number\n",
        "print(\"Sum of the even numbers: \", total)"
      ],
      "metadata": {
        "colab": {
          "base_uri": "https://localhost:8080/"
        },
        "id": "jtzL82G3rFA-",
        "outputId": "94890f0b-8f5f-4c0a-c092-c9a3e2f92447"
      },
      "execution_count": 14,
      "outputs": [
        {
          "output_type": "stream",
          "name": "stdout",
          "text": [
            "Sum of the even numbers:  10\n"
          ]
        }
      ]
    },
    {
      "cell_type": "markdown",
      "source": [
        "Question 14. Write a program to reverse a string using a while loop.\n"
      ],
      "metadata": {
        "id": "ma8TgvrDqNCA"
      }
    },
    {
      "cell_type": "code",
      "source": [
        "text = input(\"Enter some text: \")\n",
        "reversed_text = \"\"\n",
        "index = len(text)-1\n",
        "\n",
        "while index>=0:\n",
        "  reversed_text += text[index]\n",
        "  index -= 1\n",
        "print(\"reversed text:\", reversed_text)"
      ],
      "metadata": {
        "colab": {
          "base_uri": "https://localhost:8080/"
        },
        "id": "8TllJ-hQqeXA",
        "outputId": "b4f80250-338e-4852-d89a-44e7dc035ab4"
      },
      "execution_count": 15,
      "outputs": [
        {
          "output_type": "stream",
          "name": "stdout",
          "text": [
            "Enter some text: dev\n",
            "reversed text: ved\n"
          ]
        }
      ]
    },
    {
      "cell_type": "markdown",
      "source": [
        "Question 15. Write a Python program to calculate the factorial of a number provided by the user using a while loop."
      ],
      "metadata": {
        "id": "JsnmqZhIpo-K"
      }
    },
    {
      "cell_type": "code",
      "source": [
        "number = int(input(\"Enter a non-negative integer\"))\n",
        "\n",
        "if number < 0:\n",
        "  print(\"Factorial is not defined for negative numbers\")\n",
        "elif number ==0:\n",
        "  print(\"The factorial of 0 is 1\")\n",
        "else:\n",
        "  factorial = 1\n",
        "  i = number\n",
        "\n",
        "  while i>0:\n",
        "    factorial *= i\n",
        "    i-=1\n",
        "\n",
        "  print(f\"The factorial of {number} is {factorial} \")"
      ],
      "metadata": {
        "colab": {
          "base_uri": "https://localhost:8080/"
        },
        "id": "BoYtlFZ2qgxf",
        "outputId": "c97c7fd6-1162-4dfc-c109-5dd3ff61363e"
      },
      "execution_count": 16,
      "outputs": [
        {
          "output_type": "stream",
          "name": "stdout",
          "text": [
            "Enter a non-negative integer12\n",
            "The factorial of 12 is 479001600 \n"
          ]
        }
      ]
    },
    {
      "cell_type": "code",
      "source": [],
      "metadata": {
        "id": "L-QO9AuRuomm"
      },
      "execution_count": 16,
      "outputs": []
    }
  ]
}